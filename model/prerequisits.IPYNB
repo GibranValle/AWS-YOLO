{
 "cells": [
  {
   "cell_type": "markdown",
   "metadata": {},
   "source": []
  },
  {
   "cell_type": "markdown",
   "metadata": {},
   "source": [
    "## Prerequisitos \n",
    "### 1 CUDA Toolkit 12.6"
   ]
  },
  {
   "cell_type": "code",
   "execution_count": null,
   "metadata": {},
   "outputs": [],
   "source": [
    "!winget install --id=Nvidia.CUDA -e --version 12.6`"
   ]
  },
  {
   "cell_type": "markdown",
   "metadata": {},
   "source": [
    "### 2 cudNN 9.1\n",
    "**Descarga manual**"
   ]
  },
  {
   "cell_type": "markdown",
   "metadata": {},
   "source": [
    "### 3 Pytorch (2.5GB)\n",
    "<small>Nota: El ! al inicio indica que es un comando de shell.</small>"
   ]
  },
  {
   "cell_type": "code",
   "execution_count": 1,
   "metadata": {},
   "outputs": [
    {
     "name": "stdout",
     "output_type": "stream",
     "text": [
      "^C\n"
     ]
    }
   ],
   "source": [
    "!pip3 install torch torchvision torchaudio --index-url https://download.pytorch.org/whl/cu126"
   ]
  },
  {
   "cell_type": "markdown",
   "metadata": {},
   "source": [
    "### 4 YOLO V11\n",
    "#### 4.1 TENSOR RT \n",
    "instalarlo utilizando documentación de NVIDIA"
   ]
  },
  {
   "cell_type": "code",
   "execution_count": null,
   "metadata": {},
   "outputs": [
    {
     "name": "stderr",
     "output_type": "stream",
     "text": [
      "ERROR: Invalid requirement: 'ultralytics,': Expected end or semicolon (after name and no valid version specifier)\n",
      "    ultralytics,\n",
      "               ^\n"
     ]
    }
   ],
   "source": [
    "!pip3 install ultralytics"
   ]
  },
  {
   "cell_type": "markdown",
   "metadata": {},
   "source": [
    "### 5 Crear folders para datasets"
   ]
  },
  {
   "cell_type": "code",
   "execution_count": null,
   "metadata": {},
   "outputs": [],
   "source": [
    "import os\n",
    "\n",
    "parent_dir = os.path.abspath(os.path.join(os.getcwd(), os.pardir))\n",
    "datasets_path = os.path.join(parent_dir, \"datasets\")\n",
    "\n",
    "if not os.path.exists(datasets_path):\n",
    "    folders = [\n",
    "        \"datasets/images/train\",\n",
    "        \"datasets/images/val\",\n",
    "        \"datasets/images/test\",\n",
    "        \"datasets/labels/train\",\n",
    "        \"datasets/labels/val\",\n",
    "        \"datasets/labels/test\",\n",
    "    ]\n",
    "\n",
    "    for folder in folders:\n",
    "        os.makedirs(os.path.join(parent_dir, folder), exist_ok=True)\n"
   ]
  },
  {
   "cell_type": "markdown",
   "metadata": {},
   "source": [
    "### 6 Crear directorios para segmentar imágenes y archivos: .yaml y classes.txt"
   ]
  },
  {
   "cell_type": "code",
   "execution_count": 27,
   "metadata": {},
   "outputs": [
    {
     "name": "stdout",
     "output_type": "stream",
     "text": [
      "['aws_perform_exposure_2_calibrate', 'ff_gen_tools_generator_exposure', 'ff_gen_tools_generator_prep', 'ff_gen_tools_generator_release', 'ff_gen_tools_generator_standby', 'fpd_calibration_pass', 'fpd_offline', 'fpd_calibrating', 'generator_blocked', 'generator_exposure', 'generator_standby', 'generator_offline']\n"
     ]
    }
   ],
   "source": [
    "import os\n",
    "from os import getcwd, pardir, mkdir\n",
    "from os.path import abspath, join, exists\n",
    "\n",
    "# Obtener el directorio padre\n",
    "parent_dir = abspath(join(getcwd(), pardir))\n",
    "\n",
    "# Definir la ruta del directorio datasets en el directorio padre\n",
    "dataset_dir = join(parent_dir, \"datasets\")\n",
    "dataset_yaml_path = join(dataset_dir, \"dataset.yaml\")\n",
    "model_dir = join(parent_dir, \"model\")\n",
    "\n",
    "classes_name = []\n",
    "classes_name_file = join(parent_dir, \"model\", \"classes_name.txt\")\n",
    "with open(classes_name_file, \"r\", encoding=\"utf-8\") as file:\n",
    "    for linea in file:\n",
    "        current_line = linea.strip() # `.strip()` elimina espacios y saltos de línea\n",
    "        classes_name.append(current_line)  \n",
    "        current_folder = join(parent_dir, linea)\n",
    "        if not exists(current_line):\n",
    "            mkdir(current_line)\n",
    "    print(classes_name)\n",
    "\n",
    "# Contenido del archivo YAML con rutas relativas desde el directorio padre\n",
    "dataset_yaml_content = f\"\"\"\\\n",
    "# dataset.yaml\n",
    "\n",
    "path: {dataset_dir}  # Ruta base del dataset\n",
    "train: {join(dataset_dir, \"images\\\\train\")}  # Directorio con imágenes de entrenamiento\n",
    "val: {join(dataset_dir, \"images\\\\val\")}  # Directorio con imágenes de validación\n",
    "test: {join(dataset_dir, \"images\\\\test\")}  # Directorio con imágenes de prueba (opcional)\n",
    "\n",
    "# Clases\n",
    "nc: {len(classes_name)}  # Número de clases (modifica según tu dataset)\n",
    "names: [{classes_name}]  # Nombres de las clases (ajusta según tus etiquetas)\n",
    "\"\"\"\n",
    "\n",
    "# Crear el directorio si no existe\n",
    "os.makedirs(dataset_dir, exist_ok=True)\n",
    "\n",
    "# Crear el archivo dataset.yaml con el contenido\n",
    "with open(dataset_yaml_path, \"w\") as file:\n",
    "    file.write(dataset_yaml_content)"
   ]
  },
  {
   "cell_type": "markdown",
   "metadata": {},
   "source": [
    "### 7. iterar por cada una de las carpetas\n",
    "#### 7.1 leer el archivo coords.txt\n",
    "contiene coordenadas relativas para YOLO\n",
    "#### 7.2 buscar el indice correspondiente del nombre del directorio en classes.txt\n",
    "es la primer columna del siguiente archivo\n",
    "#### 7.3 crear los archivo .txt con los mismos nombres que los archivos de ese directorio\n",
    "cada archivo tiene el indice seguido de las coordenadas ejemplo\n",
    "\n",
    "`0 0.456250 0.230313 0.172500 0.025625`\n"
   ]
  },
  {
   "cell_type": "code",
   "execution_count": null,
   "metadata": {},
   "outputs": [],
   "source": [
    "import os\n",
    "\n",
    "from os.path import isdir, join, abspath\n",
    "\n",
    "# Obtener el directorio padre\n",
    "parent_dir = abspath(join(os.getcwd(), os.pardir))\n",
    "\n",
    "# Definir la ruta del directorio models en el directorio padre\n",
    "model_dir = join(parent_dir, \"model\")\n",
    "\n",
    "classes_name = []\n",
    "classes_name_file = join(model_dir, \"classes_name.txt\")\n",
    "with open(classes_name_file, \"r\", encoding=\"utf-8\") as file:\n",
    "    for linea in file:\n",
    "        current_line = linea.strip()  # `.strip()` elimina espacios y saltos de línea\n",
    "        classes_name.append(current_line)\n",
    "        current_folder = os.path.join(parent_dir, linea)\n",
    "    # print(classes_name)\n",
    "\n",
    "if isdir(model_dir):\n",
    "    object = {}\n",
    "    # iterar por el directorio model para buscar subdirectorios\n",
    "    for subdirectory in os.listdir(model_dir):\n",
    "        subdir = join(model_dir, subdirectory)\n",
    "        # iterar solo directorios\n",
    "        if isdir(subdir):\n",
    "            # iterar por todos los archivos de texto para conseguir coordenadas\n",
    "            yolo_line = \"\"\n",
    "            for file in os.listdir(subdir):\n",
    "                filepath = join(subdir, file)\n",
    "                # ignorar directorios\n",
    "                if not isdir(filepath):\n",
    "                    extension = filepath.split(\".\")[1]\n",
    "                    # ignorar no textos\n",
    "                    if extension == \"txt\":\n",
    "                        class_name = subdir.split(\"\\\\\")[-1]\n",
    "                        index = classes_name.index(class_name)\n",
    "                        with open(filepath, \"r\", encoding=\"utf-8\") as file:\n",
    "                            for linea in file:\n",
    "                                current_line = linea.strip()\n",
    "                                # crear linea\n",
    "                                yolo_line = f\"{index} {current_line}\"\n",
    "                # iterar por todos los archivos de img para asignar en el objeto la linea de YOLO si no existe\n",
    "                for file in os.listdir(subdir):\n",
    "                    filepath = join(subdir, file)\n",
    "                    # ignorar directorios\n",
    "                    if not isdir(filepath):\n",
    "                        extension = filepath.split(\".\")[1]\n",
    "                        # ignorar no textos\n",
    "                        if extension == \"png\":\n",
    "                            img_name = filepath.split(\"\\\\\")[-1]\n",
    "                            if img_name in object:\n",
    "                                if yolo_line not in object[img_name]:\n",
    "                                    object[img_name].append(yolo_line)\n",
    "                            else:\n",
    "                                object[img_name] = [yolo_line]\n",
    "\n",
    "    # iterar por el objeto creado para crear el archivo de texto con los yolo lines\n",
    "    label_dir = join(parent_dir, \"datasets\", \"labels\", \"train\")\n",
    "    for key, values in object.items():\n",
    "        text_file = join(label_dir, key.replace(\".png\", \".txt\"))\n",
    "        with open(text_file, \"w\", encoding=\"utf-8\") as file:\n",
    "            for value in values:\n",
    "                file.write(f\"{value}\\n\")"
   ]
  }
 ],
 "metadata": {
  "kernelspec": {
   "display_name": "Python 3",
   "language": "python",
   "name": "python3"
  },
  "language_info": {
   "codemirror_mode": {
    "name": "ipython",
    "version": 3
   },
   "file_extension": ".py",
   "mimetype": "text/x-python",
   "name": "python",
   "nbconvert_exporter": "python",
   "pygments_lexer": "ipython3",
   "version": "3.12.8"
  }
 },
 "nbformat": 4,
 "nbformat_minor": 2
}
