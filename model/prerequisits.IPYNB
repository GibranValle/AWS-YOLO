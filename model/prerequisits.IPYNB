{
 "cells": [
  {
   "cell_type": "markdown",
   "metadata": {},
   "source": []
  },
  {
   "cell_type": "markdown",
   "metadata": {},
   "source": [
    "## Prerequisitos \n",
    "### 1 CUDA Toolkit 12.6"
   ]
  },
  {
   "cell_type": "code",
   "execution_count": null,
   "metadata": {},
   "outputs": [],
   "source": [
    "!winget install --id=Nvidia.CUDA -e --version 12.6`"
   ]
  },
  {
   "cell_type": "markdown",
   "metadata": {},
   "source": [
    "### 2 cudNN 9.1\n",
    "**Descarga manual**"
   ]
  },
  {
   "cell_type": "markdown",
   "metadata": {},
   "source": [
    "### 3 Pytorch (2.5GB)\n",
    "<small>Nota: El ! al inicio indica que es un comando de shell.</small>"
   ]
  },
  {
   "cell_type": "code",
   "execution_count": 1,
   "metadata": {},
   "outputs": [
    {
     "name": "stdout",
     "output_type": "stream",
     "text": [
      "^C\n"
     ]
    }
   ],
   "source": [
    "!pip3 install torch torchvision torchaudio --index-url https://download.pytorch.org/whl/cu126"
   ]
  },
  {
   "cell_type": "markdown",
   "metadata": {},
   "source": [
    "### 4 YOLO V11"
   ]
  },
  {
   "cell_type": "code",
   "execution_count": null,
   "metadata": {},
   "outputs": [],
   "source": [
    "!pip3 install ultralytics"
   ]
  },
  {
   "cell_type": "markdown",
   "metadata": {},
   "source": [
    "### 5 Crear folders para datasets"
   ]
  },
  {
   "cell_type": "code",
   "execution_count": 4,
   "metadata": {},
   "outputs": [],
   "source": [
    "import os\n",
    "\n",
    "parent_dir = os.path.abspath(os.path.join(os.getcwd(), os.pardir))\n",
    "datasets_path = os.path.join(parent_dir, \"datasets\")\n",
    "\n",
    "if not os.path.exists(datasets_path):\n",
    "    folders = [\n",
    "        \"datasets/images/train\",\n",
    "        \"datasets/images/val\",\n",
    "        \"datasets/images/test\",\n",
    "        \"datasets/labels/train\",\n",
    "        \"datasets/labels/val\",\n",
    "        \"datasets/labels/test\",\n",
    "    ]\n",
    "\n",
    "    for folder in folders:\n",
    "        os.makedirs(os.path.join(parent_dir, folder), exist_ok=True)\n"
   ]
  },
  {
   "cell_type": "markdown",
   "metadata": {},
   "source": [
    "### 6 Crear directorios para segmentar imágenes y archivo .yaml"
   ]
  },
  {
   "cell_type": "code",
   "execution_count": 4,
   "metadata": {},
   "outputs": [
    {
     "name": "stdout",
     "output_type": "stream",
     "text": [
      "['aws_calibration_button', 'aws_field_calibration_button', 'aws_perform_exposure_2_calibrate', 'aws_ok_gray_button', 'aws_ok_green_button', 'fpd_calibration_pass', 'fpd_offline', 'fpd_calibrating', 'generator_blocked', 'generator_exposure', 'generator_standby', 'generator_offline', 'mcu_mutl_page_1', 'mcu_mutl_page_2', 'mcu_mutl_page_3', 'mcu_mutl_tab_calibration', 'mcu_mutl_button_offset', 'mcu_mutl_button_defect', 'mcu_mutl_button_defect_solid', 'mcu_mutl_button_pixel_defect', 'mcu_mutl_button_shading', 'mcu_mutl_button_uniformity', 'mcu_mutl_tab_calib_option', 'mcu_mutl_button_defect_solid_stereo', 'mcu_mutl_button_defect_solid_biopsy', 'mcu_mutl_button_defect_solid_tomo', 'mcu_mutl_button_uniformity_stereo', 'mcu_mutl_button_uniformity_biopsy', 'mcu_mutl_button_uniformity_tomo', 'mcu_mutl_button_uniformity_es', 'mcu_mutl_tab_calib_control', 'mcu_mutl_button_pmma', 'mcu_mutl_label_pmma_off', 'mcu_mutl_label_pmma_on', 'mcu_mutl_tab_image_check', 'mcu_mutl_button_transfer_raw_image', 'mcu_mutl_button_transfer_prev_image', 'mcu_mutl_button_transfer_main_image', 'mcu_mutl_button_transfer_offset_data', 'mu_mutl_page_1', 'mu_mutl_page_2', 'mu_mutl_page_3', 'mu_mutl_tab_calibration', 'mu_mutl_button_mag_table', 'mu_mutl_button_hvl_calib', 'mu_mutl_tab_generator_check', 'mu_mutl_button_enable_ment_mode', 'mu_mutl_tab_system']\n"
     ]
    }
   ],
   "source": [
    "import os\n",
    "\n",
    "# Obtener el directorio padre\n",
    "parent_dir = os.path.abspath(os.path.join(os.getcwd(), os.pardir))\n",
    "\n",
    "# Definir la ruta del directorio datasets en el directorio padre\n",
    "dataset_dir = os.path.join(parent_dir, \"datasets\")\n",
    "dataset_yaml_path = os.path.join(dataset_dir, \"dataset.yaml\")\n",
    "model_dir = os.path.join(parent_dir, \"model\")\n",
    "\n",
    "classes_name = []\n",
    "classes_name_file = os.path.join(parent_dir, \"model\", \"classes_name.txt\")\n",
    "with open(classes_name_file, \"r\", encoding=\"utf-8\") as file:\n",
    "    for linea in file:\n",
    "        current_line = linea.strip() # `.strip()` elimina espacios y saltos de línea\n",
    "        classes_name.append(current_line)  \n",
    "        current_folder = os.path.join(parent_dir, linea)\n",
    "        os.mkdir(current_line)\n",
    "    print(classes_name)\n",
    "\n",
    "# Contenido del archivo YAML con rutas relativas desde el directorio padre\n",
    "dataset_yaml_content = f\"\"\"\\\n",
    "# dataset.yaml\n",
    "\n",
    "path: {dataset_dir}  # Ruta base del dataset\n",
    "train: {os.path.join(dataset_dir, \"images\\\\train\")}  # Directorio con imágenes de entrenamiento\n",
    "val: {os.path.join(dataset_dir, \"images\\\\val\")}  # Directorio con imágenes de validación\n",
    "test: {os.path.join(dataset_dir, \"images\\\\test\")}  # Directorio con imágenes de prueba (opcional)\n",
    "\n",
    "# Clases\n",
    "nc: 2  # Número de clases (modifica según tu dataset)\n",
    "names: [{classes_name}]  # Nombres de las clases (ajusta según tus etiquetas)\n",
    "\"\"\"\n",
    "\n",
    "# Crear el directorio si no existe\n",
    "os.makedirs(dataset_dir, exist_ok=True)\n",
    "\n",
    "# Crear el archivo dataset.yaml con el contenido\n",
    "with open(dataset_yaml_path, \"w\") as file:\n",
    "    file.write(dataset_yaml_content)"
   ]
  }
 ],
 "metadata": {
  "kernelspec": {
   "display_name": "Python 3",
   "language": "python",
   "name": "python3"
  },
  "language_info": {
   "codemirror_mode": {
    "name": "ipython",
    "version": 3
   },
   "file_extension": ".py",
   "mimetype": "text/x-python",
   "name": "python",
   "nbconvert_exporter": "python",
   "pygments_lexer": "ipython3",
   "version": "3.12.8"
  }
 },
 "nbformat": 4,
 "nbformat_minor": 2
}
