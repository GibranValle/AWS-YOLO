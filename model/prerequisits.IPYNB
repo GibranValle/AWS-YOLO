{
 "cells": [
  {
   "cell_type": "markdown",
   "metadata": {},
   "source": []
  },
  {
   "cell_type": "markdown",
   "metadata": {},
   "source": [
    "## Prerequisitos \n",
    "### 1 CUDA Toolkit 12.6"
   ]
  },
  {
   "cell_type": "code",
   "execution_count": null,
   "metadata": {},
   "outputs": [],
   "source": [
    "!winget install --id=Nvidia.CUDA -e --version 12.6`"
   ]
  },
  {
   "cell_type": "markdown",
   "metadata": {},
   "source": [
    "### 2 cudNN 9.1\n",
    "**Descarga manual**"
   ]
  },
  {
   "cell_type": "markdown",
   "metadata": {},
   "source": [
    "### 3 Pytorch (2.5GB)\n",
    "<small>Nota: El ! al inicio indica que es un comando de shell.</small>"
   ]
  },
  {
   "cell_type": "code",
   "execution_count": 1,
   "metadata": {},
   "outputs": [
    {
     "name": "stdout",
     "output_type": "stream",
     "text": [
      "^C\n"
     ]
    }
   ],
   "source": [
    "!pip3 install torch torchvision torchaudio --index-url https://download.pytorch.org/whl/cu126"
   ]
  },
  {
   "cell_type": "markdown",
   "metadata": {},
   "source": [
    "### 4 YOLO V11"
   ]
  },
  {
   "cell_type": "code",
   "execution_count": null,
   "metadata": {},
   "outputs": [],
   "source": [
    "!pip3 install ultralytics"
   ]
  },
  {
   "cell_type": "markdown",
   "metadata": {},
   "source": [
    "### 5 Crear folders para datasets"
   ]
  },
  {
   "cell_type": "code",
   "execution_count": 4,
   "metadata": {},
   "outputs": [],
   "source": [
    "import os\n",
    "\n",
    "parent_dir = os.path.abspath(os.path.join(os.getcwd(), os.pardir))\n",
    "datasets_path = os.path.join(parent_dir, \"datasets\")\n",
    "\n",
    "if not os.path.exists(datasets_path):\n",
    "    folders = [\n",
    "        \"datasets/images/train\",\n",
    "        \"datasets/images/val\",\n",
    "        \"datasets/images/test\",\n",
    "        \"datasets/labels/train\",\n",
    "        \"datasets/labels/val\",\n",
    "        \"datasets/labels/test\",\n",
    "    ]\n",
    "\n",
    "    for folder in folders:\n",
    "        os.makedirs(os.path.join(parent_dir, folder), exist_ok=True)\n"
   ]
  },
  {
   "cell_type": "markdown",
   "metadata": {},
   "source": [
    "### 6 Crear archivo .yaml"
   ]
  },
  {
   "cell_type": "code",
   "execution_count": 6,
   "metadata": {},
   "outputs": [],
   "source": [
    "import os\n",
    "\n",
    "# Obtener el directorio padre\n",
    "parent_dir = os.path.abspath(os.path.join(os.getcwd(), os.pardir))\n",
    "\n",
    "# Definir la ruta del directorio datasets en el directorio padre\n",
    "dataset_dir = os.path.join(parent_dir, \"datasets\")\n",
    "dataset_yaml_path = os.path.join(dataset_dir, \"dataset.yaml\")\n",
    "\n",
    "class_names = [\n",
    "    \"aws_field_calibration_button\",\n",
    "    \"perform_exposure_2_calibrate\",\n",
    "    \"calibration_pass\",\n",
    "    \"MCU_CALIB_PASS\",\n",
    "    \"MCU_NO_MESSAGE\",\n",
    "    \"MU_BLOCKED\",\n",
    "    \"MU_EXPOSURE\",\n",
    "    \"MU_OFFLINE\",\n",
    "    \"MU_PREP\",\n",
    "    \"MU_STANDBY\",\n",
    "    \"OK_GREY\",\n",
    "]\n",
    "\n",
    "# Contenido del archivo YAML con rutas relativas desde el directorio padre\n",
    "dataset_yaml_content = f\"\"\"\\\n",
    "# dataset.yaml\n",
    "\n",
    "path: {dataset_dir}  # Ruta base del dataset\n",
    "train: {os.path.join(dataset_dir, \"images\\\\train\")}  # Directorio con imágenes de entrenamiento\n",
    "val: {os.path.join(dataset_dir, \"images\\\\val\")}  # Directorio con imágenes de validación\n",
    "test: {os.path.join(dataset_dir, \"images\\\\test\")}  # Directorio con imágenes de prueba (opcional)\n",
    "\n",
    "# Clases\n",
    "nc: 2  # Número de clases (modifica según tu dataset)\n",
    "names: [\"clase_1\", \"clase_2\"]  # Nombres de las clases (ajusta según tus etiquetas)\n",
    "\"\"\"\n",
    "\n",
    "# Crear el directorio si no existe\n",
    "os.makedirs(dataset_dir, exist_ok=True)\n",
    "\n",
    "# Crear el archivo dataset.yaml con el contenido\n",
    "with open(dataset_yaml_path, \"w\") as file:\n",
    "    file.write(dataset_yaml_content)"
   ]
  }
 ],
 "metadata": {
  "kernelspec": {
   "display_name": "Python 3",
   "language": "python",
   "name": "python3"
  },
  "language_info": {
   "codemirror_mode": {
    "name": "ipython",
    "version": 3
   },
   "file_extension": ".py",
   "mimetype": "text/x-python",
   "name": "python",
   "nbconvert_exporter": "python",
   "pygments_lexer": "ipython3",
   "version": "3.12.8"
  }
 },
 "nbformat": 4,
 "nbformat_minor": 2
}
